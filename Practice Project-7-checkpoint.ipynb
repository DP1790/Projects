{
 "cells": [
  {
   "cell_type": "markdown",
   "id": "be27f479",
   "metadata": {},
   "source": [
    "# Advertising Sales Channel Prediction"
   ]
  },
  {
   "cell_type": "markdown",
   "id": "a4104387",
   "metadata": {},
   "source": [
    "Sales Channel Prediction Case Study: The case study of Sales channel includes the detailed study of amount spent on advertising through diff channels like TV, Radio and Newspaper. Based on the features(TV,Radio & Newspaper), we need to predict the total sales generated for each channel & how individual feature is affecting the total sales channel & any scope optimise the sale."
   ]
  },
  {
   "cell_type": "code",
   "execution_count": 1,
   "id": "c5c90386",
   "metadata": {},
   "outputs": [],
   "source": [
    "# Importing libraries\n",
    "\n",
    "import pandas as pd\n",
    "import numpy as np\n",
    "from matplotlib import pyplot as plt\n",
    "import seaborn as sns\n",
    "import sklearn\n",
    "from sklearn.preprocessing import StandardScaler\n",
    "from sklearn.linear_model import LinearRegression\n",
    "from sklearn.model_selection import train_test_split\n",
    "import statsmodels.api as sm\n",
    "import warnings\n",
    "warnings.filterwarnings('ignore')\n"
   ]
  },
  {
   "cell_type": "code",
   "execution_count": 2,
   "id": "b0f626bc",
   "metadata": {},
   "outputs": [
    {
     "data": {
      "text/html": [
       "<div>\n",
       "<style scoped>\n",
       "    .dataframe tbody tr th:only-of-type {\n",
       "        vertical-align: middle;\n",
       "    }\n",
       "\n",
       "    .dataframe tbody tr th {\n",
       "        vertical-align: top;\n",
       "    }\n",
       "\n",
       "    .dataframe thead th {\n",
       "        text-align: right;\n",
       "    }\n",
       "</style>\n",
       "<table border=\"1\" class=\"dataframe\">\n",
       "  <thead>\n",
       "    <tr style=\"text-align: right;\">\n",
       "      <th></th>\n",
       "      <th>Unnamed: 0</th>\n",
       "      <th>TV</th>\n",
       "      <th>radio</th>\n",
       "      <th>newspaper</th>\n",
       "      <th>sales</th>\n",
       "    </tr>\n",
       "  </thead>\n",
       "  <tbody>\n",
       "    <tr>\n",
       "      <th>0</th>\n",
       "      <td>1</td>\n",
       "      <td>230.1</td>\n",
       "      <td>37.8</td>\n",
       "      <td>69.2</td>\n",
       "      <td>22.1</td>\n",
       "    </tr>\n",
       "    <tr>\n",
       "      <th>1</th>\n",
       "      <td>2</td>\n",
       "      <td>44.5</td>\n",
       "      <td>39.3</td>\n",
       "      <td>45.1</td>\n",
       "      <td>10.4</td>\n",
       "    </tr>\n",
       "    <tr>\n",
       "      <th>2</th>\n",
       "      <td>3</td>\n",
       "      <td>17.2</td>\n",
       "      <td>45.9</td>\n",
       "      <td>69.3</td>\n",
       "      <td>9.3</td>\n",
       "    </tr>\n",
       "    <tr>\n",
       "      <th>3</th>\n",
       "      <td>4</td>\n",
       "      <td>151.5</td>\n",
       "      <td>41.3</td>\n",
       "      <td>58.5</td>\n",
       "      <td>18.5</td>\n",
       "    </tr>\n",
       "    <tr>\n",
       "      <th>4</th>\n",
       "      <td>5</td>\n",
       "      <td>180.8</td>\n",
       "      <td>10.8</td>\n",
       "      <td>58.4</td>\n",
       "      <td>12.9</td>\n",
       "    </tr>\n",
       "  </tbody>\n",
       "</table>\n",
       "</div>"
      ],
      "text/plain": [
       "   Unnamed: 0     TV  radio  newspaper  sales\n",
       "0           1  230.1   37.8       69.2   22.1\n",
       "1           2   44.5   39.3       45.1   10.4\n",
       "2           3   17.2   45.9       69.3    9.3\n",
       "3           4  151.5   41.3       58.5   18.5\n",
       "4           5  180.8   10.8       58.4   12.9"
      ]
     },
     "execution_count": 2,
     "metadata": {},
     "output_type": "execute_result"
    }
   ],
   "source": [
    "## Read the 'train' CSV file and convert into dataframe\n",
    "\n",
    "df = pd.read_csv('Advertising.csv')\n",
    "df.head()"
   ]
  },
  {
   "cell_type": "code",
   "execution_count": 3,
   "id": "c7a1da4d",
   "metadata": {},
   "outputs": [
    {
     "data": {
      "text/plain": [
       "(200, 5)"
      ]
     },
     "execution_count": 3,
     "metadata": {},
     "output_type": "execute_result"
    }
   ],
   "source": [
    "df.shape ## checking the data dimensions"
   ]
  },
  {
   "cell_type": "markdown",
   "id": "60790ce5",
   "metadata": {},
   "source": [
    "We have 200 rows & 5 columns including the target column."
   ]
  },
  {
   "cell_type": "code",
   "execution_count": 4,
   "id": "f251a925",
   "metadata": {},
   "outputs": [
    {
     "data": {
      "text/html": [
       "<div>\n",
       "<style scoped>\n",
       "    .dataframe tbody tr th:only-of-type {\n",
       "        vertical-align: middle;\n",
       "    }\n",
       "\n",
       "    .dataframe tbody tr th {\n",
       "        vertical-align: top;\n",
       "    }\n",
       "\n",
       "    .dataframe thead th {\n",
       "        text-align: right;\n",
       "    }\n",
       "</style>\n",
       "<table border=\"1\" class=\"dataframe\">\n",
       "  <thead>\n",
       "    <tr style=\"text-align: right;\">\n",
       "      <th></th>\n",
       "      <th>Unnamed: 0</th>\n",
       "      <th>TV</th>\n",
       "      <th>radio</th>\n",
       "      <th>newspaper</th>\n",
       "      <th>sales</th>\n",
       "    </tr>\n",
       "  </thead>\n",
       "  <tbody>\n",
       "    <tr>\n",
       "      <th>count</th>\n",
       "      <td>200.000000</td>\n",
       "      <td>200.000000</td>\n",
       "      <td>200.000000</td>\n",
       "      <td>200.000000</td>\n",
       "      <td>200.000000</td>\n",
       "    </tr>\n",
       "    <tr>\n",
       "      <th>mean</th>\n",
       "      <td>100.500000</td>\n",
       "      <td>147.042500</td>\n",
       "      <td>23.264000</td>\n",
       "      <td>30.554000</td>\n",
       "      <td>14.022500</td>\n",
       "    </tr>\n",
       "    <tr>\n",
       "      <th>std</th>\n",
       "      <td>57.879185</td>\n",
       "      <td>85.854236</td>\n",
       "      <td>14.846809</td>\n",
       "      <td>21.778621</td>\n",
       "      <td>5.217457</td>\n",
       "    </tr>\n",
       "    <tr>\n",
       "      <th>min</th>\n",
       "      <td>1.000000</td>\n",
       "      <td>0.700000</td>\n",
       "      <td>0.000000</td>\n",
       "      <td>0.300000</td>\n",
       "      <td>1.600000</td>\n",
       "    </tr>\n",
       "    <tr>\n",
       "      <th>25%</th>\n",
       "      <td>50.750000</td>\n",
       "      <td>74.375000</td>\n",
       "      <td>9.975000</td>\n",
       "      <td>12.750000</td>\n",
       "      <td>10.375000</td>\n",
       "    </tr>\n",
       "    <tr>\n",
       "      <th>50%</th>\n",
       "      <td>100.500000</td>\n",
       "      <td>149.750000</td>\n",
       "      <td>22.900000</td>\n",
       "      <td>25.750000</td>\n",
       "      <td>12.900000</td>\n",
       "    </tr>\n",
       "    <tr>\n",
       "      <th>75%</th>\n",
       "      <td>150.250000</td>\n",
       "      <td>218.825000</td>\n",
       "      <td>36.525000</td>\n",
       "      <td>45.100000</td>\n",
       "      <td>17.400000</td>\n",
       "    </tr>\n",
       "    <tr>\n",
       "      <th>max</th>\n",
       "      <td>200.000000</td>\n",
       "      <td>296.400000</td>\n",
       "      <td>49.600000</td>\n",
       "      <td>114.000000</td>\n",
       "      <td>27.000000</td>\n",
       "    </tr>\n",
       "  </tbody>\n",
       "</table>\n",
       "</div>"
      ],
      "text/plain": [
       "       Unnamed: 0          TV       radio   newspaper       sales\n",
       "count  200.000000  200.000000  200.000000  200.000000  200.000000\n",
       "mean   100.500000  147.042500   23.264000   30.554000   14.022500\n",
       "std     57.879185   85.854236   14.846809   21.778621    5.217457\n",
       "min      1.000000    0.700000    0.000000    0.300000    1.600000\n",
       "25%     50.750000   74.375000    9.975000   12.750000   10.375000\n",
       "50%    100.500000  149.750000   22.900000   25.750000   12.900000\n",
       "75%    150.250000  218.825000   36.525000   45.100000   17.400000\n",
       "max    200.000000  296.400000   49.600000  114.000000   27.000000"
      ]
     },
     "execution_count": 4,
     "metadata": {},
     "output_type": "execute_result"
    }
   ],
   "source": [
    "df.describe() #  understanding the data at high level. checking the statistics of data set"
   ]
  },
  {
   "cell_type": "markdown",
   "id": "c188ef8e",
   "metadata": {},
   "source": [
    "Dataset looks fine, no missing data"
   ]
  },
  {
   "cell_type": "code",
   "execution_count": 5,
   "id": "17e568c2",
   "metadata": {},
   "outputs": [
    {
     "name": "stdout",
     "output_type": "stream",
     "text": [
      "<class 'pandas.core.frame.DataFrame'>\n",
      "RangeIndex: 200 entries, 0 to 199\n",
      "Data columns (total 5 columns):\n",
      " #   Column      Non-Null Count  Dtype  \n",
      "---  ------      --------------  -----  \n",
      " 0   Unnamed: 0  200 non-null    int64  \n",
      " 1   TV          200 non-null    float64\n",
      " 2   radio       200 non-null    float64\n",
      " 3   newspaper   200 non-null    float64\n",
      " 4   sales       200 non-null    float64\n",
      "dtypes: float64(4), int64(1)\n",
      "memory usage: 7.9 KB\n"
     ]
    }
   ],
   "source": [
    "# printing the summary of the dataset\n",
    "df.info()"
   ]
  },
  {
   "cell_type": "code",
   "execution_count": 6,
   "id": "56c00dc2",
   "metadata": {},
   "outputs": [
    {
     "data": {
      "text/plain": [
       "Unnamed: 0    0\n",
       "TV            0\n",
       "radio         0\n",
       "newspaper     0\n",
       "sales         0\n",
       "dtype: int64"
      ]
     },
     "execution_count": 6,
     "metadata": {},
     "output_type": "execute_result"
    }
   ],
   "source": [
    "# checking the sum of total no. of missing values for each column\n",
    "df.isnull().sum()"
   ]
  },
  {
   "cell_type": "markdown",
   "id": "a9221d18",
   "metadata": {},
   "source": [
    "# Lets visualize each feature & how it is corelated with target column"
   ]
  },
  {
   "cell_type": "code",
   "execution_count": 7,
   "id": "3efee191",
   "metadata": {},
   "outputs": [
    {
     "data": {
      "text/plain": [
       "<AxesSubplot:xlabel='newspaper', ylabel='sales'>"
      ]
     },
     "execution_count": 7,
     "metadata": {},
     "output_type": "execute_result"
    },
    {
     "data": {
      "image/png": "[encoded data removed]",
      "text/plain": [
       "<Figure size 1224x504 with 3 Axes>"
      ]
     },
     "metadata": {
      "needs_background": "light"
     },
     "output_type": "display_data"
    }
   ],
   "source": [
    "fig, axs = plt.subplots(1,3, sharey = True)\n",
    "\n",
    "df.plot(kind= 'scatter', x = 'TV', y ='sales', ax = axs[0], figsize =(17,7))\n",
    "df.plot(kind= 'scatter', x = 'radio', y ='sales', ax = axs[1])\n",
    "df.plot(kind= 'scatter', x = 'newspaper', y ='sales', ax = axs[2])\n"
   ]
  },
  {
   "cell_type": "markdown",
   "id": "dc6acc9b",
   "metadata": {},
   "source": [
    "TV & Radio is showing more linearlly corelated with sales."
   ]
  },
  {
   "cell_type": "code",
   "execution_count": 8,
   "id": "91578b8e",
   "metadata": {},
   "outputs": [
    {
     "data": {
      "text/html": [
       "<div>\n",
       "<style scoped>\n",
       "    .dataframe tbody tr th:only-of-type {\n",
       "        vertical-align: middle;\n",
       "    }\n",
       "\n",
       "    .dataframe tbody tr th {\n",
       "        vertical-align: top;\n",
       "    }\n",
       "\n",
       "    .dataframe thead th {\n",
       "        text-align: right;\n",
       "    }\n",
       "</style>\n",
       "<table border=\"1\" class=\"dataframe\">\n",
       "  <thead>\n",
       "    <tr style=\"text-align: right;\">\n",
       "      <th></th>\n",
       "      <th>Unnamed: 0</th>\n",
       "      <th>TV</th>\n",
       "      <th>radio</th>\n",
       "      <th>newspaper</th>\n",
       "      <th>sales</th>\n",
       "    </tr>\n",
       "  </thead>\n",
       "  <tbody>\n",
       "    <tr>\n",
       "      <th>Unnamed: 0</th>\n",
       "      <td>1.000000</td>\n",
       "      <td>0.017715</td>\n",
       "      <td>-0.110680</td>\n",
       "      <td>-0.154944</td>\n",
       "      <td>-0.051616</td>\n",
       "    </tr>\n",
       "    <tr>\n",
       "      <th>TV</th>\n",
       "      <td>0.017715</td>\n",
       "      <td>1.000000</td>\n",
       "      <td>0.054809</td>\n",
       "      <td>0.056648</td>\n",
       "      <td>0.782224</td>\n",
       "    </tr>\n",
       "    <tr>\n",
       "      <th>radio</th>\n",
       "      <td>-0.110680</td>\n",
       "      <td>0.054809</td>\n",
       "      <td>1.000000</td>\n",
       "      <td>0.354104</td>\n",
       "      <td>0.576223</td>\n",
       "    </tr>\n",
       "    <tr>\n",
       "      <th>newspaper</th>\n",
       "      <td>-0.154944</td>\n",
       "      <td>0.056648</td>\n",
       "      <td>0.354104</td>\n",
       "      <td>1.000000</td>\n",
       "      <td>0.228299</td>\n",
       "    </tr>\n",
       "    <tr>\n",
       "      <th>sales</th>\n",
       "      <td>-0.051616</td>\n",
       "      <td>0.782224</td>\n",
       "      <td>0.576223</td>\n",
       "      <td>0.228299</td>\n",
       "      <td>1.000000</td>\n",
       "    </tr>\n",
       "  </tbody>\n",
       "</table>\n",
       "</div>"
      ],
      "text/plain": [
       "            Unnamed: 0        TV     radio  newspaper     sales\n",
       "Unnamed: 0    1.000000  0.017715 -0.110680  -0.154944 -0.051616\n",
       "TV            0.017715  1.000000  0.054809   0.056648  0.782224\n",
       "radio        -0.110680  0.054809  1.000000   0.354104  0.576223\n",
       "newspaper    -0.154944  0.056648  0.354104   1.000000  0.228299\n",
       "sales        -0.051616  0.782224  0.576223   0.228299  1.000000"
      ]
     },
     "execution_count": 8,
     "metadata": {},
     "output_type": "execute_result"
    }
   ],
   "source": [
    "# checking correlation\n",
    "corr_mat= df.corr()\n",
    "corr_mat"
   ]
  },
  {
   "cell_type": "code",
   "execution_count": 9,
   "id": "664a245b",
   "metadata": {},
   "outputs": [
    {
     "data": {
      "image/png": "[encoded data removed]",
      "text/plain": [
       "<Figure size 504x648 with 2 Axes>"
      ]
     },
     "metadata": {
      "needs_background": "light"
     },
     "output_type": "display_data"
    }
   ],
   "source": [
    "## visualizing the correlation in heat map to check if there is any coefficient of multicolinearity\n",
    "plt.figure(figsize=(7,9))\n",
    "sns.heatmap(corr_mat, vmin=-1, vmax=1, annot= True, square= True, center= 0, fmt= '.2g', linewidths= .1)\n",
    "plt.tight_layout()"
   ]
  },
  {
   "cell_type": "markdown",
   "id": "528e5856",
   "metadata": {},
   "source": [
    "As we see in the scatter plot, TV & Radio is more corelated as compare to newspaper"
   ]
  },
  {
   "cell_type": "code",
   "execution_count": 10,
   "id": "46376c23",
   "metadata": {},
   "outputs": [
    {
     "data": {
      "text/plain": [
       "Unnamed: 0    0.000000\n",
       "TV           -0.069853\n",
       "radio         0.094175\n",
       "newspaper     0.894720\n",
       "sales         0.407571\n",
       "dtype: float64"
      ]
     },
     "execution_count": 10,
     "metadata": {},
     "output_type": "execute_result"
    }
   ],
   "source": [
    "df.skew()"
   ]
  },
  {
   "cell_type": "code",
   "execution_count": 11,
   "id": "113a5215",
   "metadata": {},
   "outputs": [
    {
     "data": {
      "image/png": "[encoded data removed]",
      "text/plain": [
       "<Figure size 648x576 with 4 Axes>"
      ]
     },
     "metadata": {
      "needs_background": "light"
     },
     "output_type": "display_data"
    }
   ],
   "source": [
    "# lets plot distribution plot to visualize the skewness\n",
    "plt.figure(figsize=(9,8))\n",
    "plotnumber = 1\n",
    "\n",
    "for column in df:\n",
    "    if plotnumber<=4:\n",
    "        ax = plt.subplot(2,2,plotnumber)\n",
    "        sns.distplot(df[column])\n",
    "        plt.xlabel(column,fontsize=20)\n",
    "    \n",
    "    plotnumber+=1\n",
    "plt.show()"
   ]
  },
  {
   "cell_type": "markdown",
   "id": "c3f3c999",
   "metadata": {},
   "source": [
    "Newspaper is showing little skewed. Lets check for the outliers"
   ]
  },
  {
   "cell_type": "code",
   "execution_count": 12,
   "id": "8c88fd60",
   "metadata": {},
   "outputs": [
    {
     "data": {
      "image/png": "[encoded data removed]",
      "text/plain": [
       "<Figure size 648x288 with 4 Axes>"
      ]
     },
     "metadata": {
      "needs_background": "light"
     },
     "output_type": "display_data"
    }
   ],
   "source": [
    "# lets visualize the outliers using box plot\n",
    "plt.figure(figsize=(9,4))\n",
    "graph = 1\n",
    "\n",
    "for column in df:\n",
    "    if graph<=4:\n",
    "        ax = plt.subplot(2,2,graph)\n",
    "        sns.boxplot(df[column], orient='v')\n",
    "        plt.xlabel(column,fontsize=12)\n",
    "    \n",
    "    graph+=1\n",
    "plt.show()"
   ]
  },
  {
   "cell_type": "code",
   "execution_count": 13,
   "id": "cc9a8fec",
   "metadata": {},
   "outputs": [],
   "source": [
    "df['newspaper'] = np.sqrt(df['newspaper'].values)"
   ]
  },
  {
   "cell_type": "code",
   "execution_count": 14,
   "id": "2e30a566",
   "metadata": {},
   "outputs": [
    {
     "data": {
      "text/plain": [
       "Unnamed: 0    0.000000\n",
       "TV           -0.069853\n",
       "radio         0.094175\n",
       "newspaper     0.062388\n",
       "sales         0.407571\n",
       "dtype: float64"
      ]
     },
     "execution_count": 14,
     "metadata": {},
     "output_type": "execute_result"
    }
   ],
   "source": [
    "df.skew()"
   ]
  },
  {
   "cell_type": "markdown",
   "id": "ab26fd74",
   "metadata": {},
   "source": [
    "There is no skewness, data looks fine now"
   ]
  },
  {
   "cell_type": "code",
   "execution_count": 15,
   "id": "112d9971",
   "metadata": {},
   "outputs": [
    {
     "data": {
      "text/plain": [
       "(200, 5)"
      ]
     },
     "execution_count": 15,
     "metadata": {},
     "output_type": "execute_result"
    }
   ],
   "source": [
    "df.shape"
   ]
  },
  {
   "cell_type": "code",
   "execution_count": 16,
   "id": "57cac7bf",
   "metadata": {},
   "outputs": [
    {
     "data": {
      "text/html": [
       "<div>\n",
       "<style scoped>\n",
       "    .dataframe tbody tr th:only-of-type {\n",
       "        vertical-align: middle;\n",
       "    }\n",
       "\n",
       "    .dataframe tbody tr th {\n",
       "        vertical-align: top;\n",
       "    }\n",
       "\n",
       "    .dataframe thead th {\n",
       "        text-align: right;\n",
       "    }\n",
       "</style>\n",
       "<table border=\"1\" class=\"dataframe\">\n",
       "  <thead>\n",
       "    <tr style=\"text-align: right;\">\n",
       "      <th></th>\n",
       "      <th>TV</th>\n",
       "      <th>radio</th>\n",
       "      <th>newspaper</th>\n",
       "      <th>sales</th>\n",
       "    </tr>\n",
       "  </thead>\n",
       "  <tbody>\n",
       "    <tr>\n",
       "      <th>0</th>\n",
       "      <td>230.1</td>\n",
       "      <td>37.8</td>\n",
       "      <td>8.318654</td>\n",
       "      <td>22.1</td>\n",
       "    </tr>\n",
       "    <tr>\n",
       "      <th>1</th>\n",
       "      <td>44.5</td>\n",
       "      <td>39.3</td>\n",
       "      <td>6.715653</td>\n",
       "      <td>10.4</td>\n",
       "    </tr>\n",
       "    <tr>\n",
       "      <th>2</th>\n",
       "      <td>17.2</td>\n",
       "      <td>45.9</td>\n",
       "      <td>8.324662</td>\n",
       "      <td>9.3</td>\n",
       "    </tr>\n",
       "    <tr>\n",
       "      <th>3</th>\n",
       "      <td>151.5</td>\n",
       "      <td>41.3</td>\n",
       "      <td>7.648529</td>\n",
       "      <td>18.5</td>\n",
       "    </tr>\n",
       "    <tr>\n",
       "      <th>4</th>\n",
       "      <td>180.8</td>\n",
       "      <td>10.8</td>\n",
       "      <td>7.641989</td>\n",
       "      <td>12.9</td>\n",
       "    </tr>\n",
       "  </tbody>\n",
       "</table>\n",
       "</div>"
      ],
      "text/plain": [
       "      TV  radio  newspaper  sales\n",
       "0  230.1   37.8   8.318654   22.1\n",
       "1   44.5   39.3   6.715653   10.4\n",
       "2   17.2   45.9   8.324662    9.3\n",
       "3  151.5   41.3   7.648529   18.5\n",
       "4  180.8   10.8   7.641989   12.9"
      ]
     },
     "execution_count": 16,
     "metadata": {},
     "output_type": "execute_result"
    }
   ],
   "source": [
    "# dropping unnamed column\n",
    "data=df.drop('Unnamed: 0',axis=1)\n",
    "data.head()"
   ]
  },
  {
   "cell_type": "code",
   "execution_count": 17,
   "id": "7fb1e8f0",
   "metadata": {},
   "outputs": [],
   "source": [
    "## Divide data set into features and label\n",
    "y = data['sales']\n",
    "x = data.drop(columns=['sales'])"
   ]
  },
  {
   "cell_type": "code",
   "execution_count": 18,
   "id": "0b2413b1",
   "metadata": {},
   "outputs": [
    {
     "data": {
      "text/plain": [
       "0    22.1\n",
       "1    10.4\n",
       "2     9.3\n",
       "3    18.5\n",
       "4    12.9\n",
       "Name: sales, dtype: float64"
      ]
     },
     "execution_count": 18,
     "metadata": {},
     "output_type": "execute_result"
    }
   ],
   "source": [
    "y.head()"
   ]
  },
  {
   "cell_type": "code",
   "execution_count": 19,
   "id": "9f48d1be",
   "metadata": {},
   "outputs": [
    {
     "data": {
      "text/html": [
       "<div>\n",
       "<style scoped>\n",
       "    .dataframe tbody tr th:only-of-type {\n",
       "        vertical-align: middle;\n",
       "    }\n",
       "\n",
       "    .dataframe tbody tr th {\n",
       "        vertical-align: top;\n",
       "    }\n",
       "\n",
       "    .dataframe thead th {\n",
       "        text-align: right;\n",
       "    }\n",
       "</style>\n",
       "<table border=\"1\" class=\"dataframe\">\n",
       "  <thead>\n",
       "    <tr style=\"text-align: right;\">\n",
       "      <th></th>\n",
       "      <th>TV</th>\n",
       "      <th>radio</th>\n",
       "      <th>newspaper</th>\n",
       "    </tr>\n",
       "  </thead>\n",
       "  <tbody>\n",
       "    <tr>\n",
       "      <th>0</th>\n",
       "      <td>230.1</td>\n",
       "      <td>37.8</td>\n",
       "      <td>8.318654</td>\n",
       "    </tr>\n",
       "    <tr>\n",
       "      <th>1</th>\n",
       "      <td>44.5</td>\n",
       "      <td>39.3</td>\n",
       "      <td>6.715653</td>\n",
       "    </tr>\n",
       "    <tr>\n",
       "      <th>2</th>\n",
       "      <td>17.2</td>\n",
       "      <td>45.9</td>\n",
       "      <td>8.324662</td>\n",
       "    </tr>\n",
       "    <tr>\n",
       "      <th>3</th>\n",
       "      <td>151.5</td>\n",
       "      <td>41.3</td>\n",
       "      <td>7.648529</td>\n",
       "    </tr>\n",
       "    <tr>\n",
       "      <th>4</th>\n",
       "      <td>180.8</td>\n",
       "      <td>10.8</td>\n",
       "      <td>7.641989</td>\n",
       "    </tr>\n",
       "  </tbody>\n",
       "</table>\n",
       "</div>"
      ],
      "text/plain": [
       "      TV  radio  newspaper\n",
       "0  230.1   37.8   8.318654\n",
       "1   44.5   39.3   6.715653\n",
       "2   17.2   45.9   8.324662\n",
       "3  151.5   41.3   7.648529\n",
       "4  180.8   10.8   7.641989"
      ]
     },
     "execution_count": 19,
     "metadata": {},
     "output_type": "execute_result"
    }
   ],
   "source": [
    "x.head()"
   ]
  },
  {
   "cell_type": "markdown",
   "id": "aaaf78e4",
   "metadata": {},
   "source": [
    "# Creating train test split"
   ]
  },
  {
   "cell_type": "code",
   "execution_count": 20,
   "id": "f8ce83b9",
   "metadata": {},
   "outputs": [
    {
     "data": {
      "text/plain": [
       "115    12.6\n",
       "175    27.0\n",
       "152    16.6\n",
       "58     23.8\n",
       "97     15.5\n",
       "Name: sales, dtype: float64"
      ]
     },
     "execution_count": 20,
     "metadata": {},
     "output_type": "execute_result"
    }
   ],
   "source": [
    "# Split the data into train and test. Model will be built on training data and tested on test data.\n",
    "x_train,x_test,y_train,y_test = train_test_split(x,y,test_size=0.25, random_state=270)\n",
    "y_train.head()"
   ]
  },
  {
   "cell_type": "markdown",
   "id": "b60da84e",
   "metadata": {},
   "source": [
    "# LinearRegression"
   ]
  },
  {
   "cell_type": "code",
   "execution_count": 49,
   "id": "33edf4e8",
   "metadata": {},
   "outputs": [
    {
     "name": "stdout",
     "output_type": "stream",
     "text": [
      "0.8576512465626884\n"
     ]
    }
   ],
   "source": [
    "LR=LinearRegression()\n",
    "LR.fit(x_train,y_train)\n",
    "pred_test=LR.predict(x_test)\n",
    "\n",
    "print(r2_score(y_test,pred_test))"
   ]
  },
  {
   "cell_type": "markdown",
   "id": "cd88394f",
   "metadata": {},
   "source": [
    "# Decision Tree Regression"
   ]
  },
  {
   "cell_type": "code",
   "execution_count": 51,
   "id": "8ec59930",
   "metadata": {},
   "outputs": [
    {
     "name": "stdout",
     "output_type": "stream",
     "text": [
      "0.9536157547435394\n"
     ]
    }
   ],
   "source": [
    "from sklearn.tree import DecisionTreeRegressor\n",
    "\n",
    "DTR=DecisionTreeRegressor()\n",
    "DTR.fit(x_train,y_train)\n",
    "pred_test=DTR.predict(x_test)\n",
    "\n",
    "print(r2_score(y_test,pred_test))"
   ]
  },
  {
   "cell_type": "markdown",
   "id": "66af6b76",
   "metadata": {},
   "source": [
    "# RandomForestRegressor"
   ]
  },
  {
   "cell_type": "code",
   "execution_count": 52,
   "id": "fcd2c994",
   "metadata": {},
   "outputs": [
    {
     "name": "stdout",
     "output_type": "stream",
     "text": [
      "0.9754215879529731\n"
     ]
    }
   ],
   "source": [
    "from sklearn.ensemble import RandomForestRegressor\n",
    "RFR= RandomForestRegressor()\n",
    "RFR.fit(x_train,y_train)\n",
    "pred_test=RFR.predict(x_test)\n",
    "\n",
    "print(r2_score(y_test,pred_test))"
   ]
  },
  {
   "cell_type": "markdown",
   "id": "129fa5b7",
   "metadata": {},
   "source": [
    "# SupportVectorRegressor"
   ]
  },
  {
   "cell_type": "code",
   "execution_count": 53,
   "id": "2b66a0a3",
   "metadata": {},
   "outputs": [
    {
     "name": "stdout",
     "output_type": "stream",
     "text": [
      "0.8224760623669573\n"
     ]
    }
   ],
   "source": [
    "from sklearn.svm import SVR\n",
    "SV= SVR()\n",
    "SV.fit(x_train,y_train)\n",
    "pred_test=SV.predict(x_test)\n",
    "\n",
    "print(r2_score(y_test,pred_test))"
   ]
  },
  {
   "cell_type": "markdown",
   "id": "827aa8a2",
   "metadata": {},
   "source": [
    "# AdaBoostRegressor"
   ]
  },
  {
   "cell_type": "code",
   "execution_count": 54,
   "id": "0ea54a5b",
   "metadata": {},
   "outputs": [
    {
     "name": "stdout",
     "output_type": "stream",
     "text": [
      "0.940133233946218\n"
     ]
    }
   ],
   "source": [
    "from sklearn.ensemble import AdaBoostRegressor\n",
    "ADR= AdaBoostRegressor()\n",
    "ADR.fit(x_train,y_train)\n",
    "pred_test=ADR.predict(x_test)\n",
    "\n",
    "print(r2_score(y_test,pred_test))"
   ]
  },
  {
   "cell_type": "markdown",
   "id": "12b21531",
   "metadata": {},
   "source": [
    "# BaggingRegressor"
   ]
  },
  {
   "cell_type": "code",
   "execution_count": 55,
   "id": "11fcbf37",
   "metadata": {},
   "outputs": [
    {
     "name": "stdout",
     "output_type": "stream",
     "text": [
      "0.9719098086219322\n"
     ]
    }
   ],
   "source": [
    "from sklearn.ensemble import BaggingRegressor\n",
    "BR= BaggingRegressor()\n",
    "BR.fit(x_train,y_train)\n",
    "pred_test=BR.predict(x_test)\n",
    "\n",
    "print(r2_score(y_test,pred_test))"
   ]
  },
  {
   "cell_type": "markdown",
   "id": "f00ed642",
   "metadata": {},
   "source": [
    "# GradientBoostingRegressor"
   ]
  },
  {
   "cell_type": "code",
   "execution_count": 56,
   "id": "03e3b76d",
   "metadata": {},
   "outputs": [
    {
     "name": "stdout",
     "output_type": "stream",
     "text": [
      "0.968843456461401\n"
     ]
    }
   ],
   "source": [
    "from sklearn.ensemble import GradientBoostingRegressor\n",
    "GBR= GradientBoostingRegressor()\n",
    "GBR.fit(x_train,y_train)\n",
    "pred_test=GBR.predict(x_test)\n",
    "\n",
    "print(r2_score(y_test,pred_test))"
   ]
  },
  {
   "cell_type": "markdown",
   "id": "c7af9ab3",
   "metadata": {},
   "source": [
    "# Cross Validation Score"
   ]
  },
  {
   "cell_type": "code",
   "execution_count": 57,
   "id": "8aa92950",
   "metadata": {},
   "outputs": [],
   "source": [
    "from sklearn.model_selection import cross_val_score"
   ]
  },
  {
   "cell_type": "code",
   "execution_count": 58,
   "id": "ef2ed45c",
   "metadata": {},
   "outputs": [
    {
     "name": "stdout",
     "output_type": "stream",
     "text": [
      "Cross validation score for LinearRegression model: 0.8873331295445761\n"
     ]
    }
   ],
   "source": [
    "scr = cross_val_score(LR, x, y, cv=5, scoring= 'r2')\n",
    "print(\"Cross validation score for LinearRegression model:\" , scr.mean())"
   ]
  },
  {
   "cell_type": "code",
   "execution_count": 59,
   "id": "cb2687cd",
   "metadata": {},
   "outputs": [
    {
     "name": "stdout",
     "output_type": "stream",
     "text": [
      "Cross validation score for Decision Tree Regression: 0.9510158089980912\n"
     ]
    }
   ],
   "source": [
    "scr = cross_val_score(DTR, x, y, cv=5, scoring= 'r2')\n",
    "print(\"Cross validation score for Decision Tree Regression:\" , scr.mean())"
   ]
  },
  {
   "cell_type": "code",
   "execution_count": 60,
   "id": "d1f8d130",
   "metadata": {},
   "outputs": [
    {
     "name": "stdout",
     "output_type": "stream",
     "text": [
      "Cross validation score for RandomForestRegressor: 0.9743294832637766\n"
     ]
    }
   ],
   "source": [
    "scr = cross_val_score(RFR, x, y, cv=5, scoring= 'r2')\n",
    "print(\"Cross validation score for RandomForestRegressor:\" , scr.mean())"
   ]
  },
  {
   "cell_type": "code",
   "execution_count": 61,
   "id": "bdf06491",
   "metadata": {},
   "outputs": [
    {
     "name": "stdout",
     "output_type": "stream",
     "text": [
      "Cross validation score for SupportVectorRegressor: 0.8353204833078319\n"
     ]
    }
   ],
   "source": [
    "scr = cross_val_score(SV, x, y, cv=5, scoring= 'r2')\n",
    "print(\"Cross validation score for SupportVectorRegressor:\" , scr.mean())"
   ]
  },
  {
   "cell_type": "code",
   "execution_count": 62,
   "id": "21c3ffc4",
   "metadata": {},
   "outputs": [
    {
     "name": "stdout",
     "output_type": "stream",
     "text": [
      "Cross validation score for AdaBoostRegressor: 0.9559347430791887\n"
     ]
    }
   ],
   "source": [
    "scr = cross_val_score(ADR, x, y, cv=5, scoring= 'r2')\n",
    "print(\"Cross validation score for AdaBoostRegressor:\" , scr.mean())"
   ]
  },
  {
   "cell_type": "code",
   "execution_count": 63,
   "id": "1eb69ce5",
   "metadata": {},
   "outputs": [
    {
     "name": "stdout",
     "output_type": "stream",
     "text": [
      "Cross validation score for BaggingRegressor: 0.972800937609704\n"
     ]
    }
   ],
   "source": [
    "scr = cross_val_score(BR, x, y, cv=5, scoring= 'r2')\n",
    "print(\"Cross validation score for BaggingRegressor:\" , scr.mean())"
   ]
  },
  {
   "cell_type": "code",
   "execution_count": 64,
   "id": "601cf2fa",
   "metadata": {},
   "outputs": [
    {
     "name": "stdout",
     "output_type": "stream",
     "text": [
      "Cross validation score for GradientBoostingRegressor: 0.9776368920060818\n"
     ]
    }
   ],
   "source": [
    "scr = cross_val_score(GBR, x, y, cv=5, scoring= 'r2')\n",
    "print(\"Cross validation score for GradientBoostingRegressor:\" , scr.mean())"
   ]
  },
  {
   "cell_type": "markdown",
   "id": "e4a080a4",
   "metadata": {},
   "source": [
    "Hence, we have DecisionTreeRegressor,RandomForestRegressor,BaggingRegressor have the no difference between accuracy and cross validation score, so we need to check for the evaluation metrics."
   ]
  },
  {
   "cell_type": "markdown",
   "id": "ff9c7656",
   "metadata": {},
   "source": [
    "# Model Evaluation"
   ]
  },
  {
   "cell_type": "code",
   "execution_count": 65,
   "id": "0ebf663c",
   "metadata": {},
   "outputs": [],
   "source": [
    "import math\n",
    "from sklearn.metrics import mean_absolute_error,mean_squared_error"
   ]
  },
  {
   "cell_type": "code",
   "execution_count": 66,
   "id": "3e45b080",
   "metadata": {},
   "outputs": [
    {
     "name": "stdout",
     "output_type": "stream",
     "text": [
      "MSE: 1.266\n",
      "RMSE: 1.1251666543228163\n",
      "MAE: 0.9080000000000001\n"
     ]
    }
   ],
   "source": [
    "# DecisionTreeRegressor\n",
    "DTR=DecisionTreeRegressor()\n",
    "DTR.fit(x_train,y_train)\n",
    "pred_test=DTR.predict(x_test)\n",
    "print(\"MSE:\",mean_squared_error(y_test,pred_test))\n",
    "print(\"RMSE:\",math.sqrt(mean_squared_error(y_test,pred_test)))\n",
    "print(\"MAE:\",mean_absolute_error(y_test,pred_test))"
   ]
  },
  {
   "cell_type": "code",
   "execution_count": 67,
   "id": "11c0c8fe",
   "metadata": {},
   "outputs": [
    {
     "name": "stdout",
     "output_type": "stream",
     "text": [
      "MSE: 0.7128784399999989\n",
      "RMSE: 0.8443212895574758\n",
      "MAE: 0.6273200000000011\n"
     ]
    }
   ],
   "source": [
    "#RandomForestRegressor\n",
    "RFR= RandomForestRegressor()\n",
    "RFR.fit(x_train,y_train)\n",
    "pred_test=RFR.predict(x_test)\n",
    "print(\"MSE:\",mean_squared_error(y_test,pred_test))\n",
    "print(\"RMSE:\",math.sqrt(mean_squared_error(y_test,pred_test)))\n",
    "print(\"MAE:\",mean_absolute_error(y_test,pred_test))"
   ]
  },
  {
   "cell_type": "code",
   "execution_count": 68,
   "id": "3d7985ec",
   "metadata": {},
   "outputs": [
    {
     "name": "stdout",
     "output_type": "stream",
     "text": [
      "MSE: 0.8288760000000001\n",
      "RMSE: 0.9104262737860765\n",
      "MAE: 0.6715999999999996\n"
     ]
    }
   ],
   "source": [
    "#BaggingRegressor\n",
    "BR= BaggingRegressor()\n",
    "BR.fit(x_train,y_train)\n",
    "pred_test=BR.predict(x_test)\n",
    "print(\"MSE:\",mean_squared_error(y_test,pred_test))\n",
    "print(\"RMSE:\",math.sqrt(mean_squared_error(y_test,pred_test)))\n",
    "print(\"MAE:\",mean_absolute_error(y_test,pred_test))"
   ]
  },
  {
   "cell_type": "markdown",
   "id": "b369be1c",
   "metadata": {},
   "source": [
    "Since RandomForestRegressor is the best model in terms of accuracy and cross validation difference as well as the evaluation metrics, we chose RandomForestRegresso to be the final model."
   ]
  },
  {
   "cell_type": "markdown",
   "id": "9c61c5f4",
   "metadata": {},
   "source": [
    "It has already 97% score but lets check if we could tune & increase the score\n"
   ]
  },
  {
   "cell_type": "markdown",
   "id": "939f0f00",
   "metadata": {},
   "source": [
    "# Hyper Parameter Tuning"
   ]
  },
  {
   "cell_type": "code",
   "execution_count": 70,
   "id": "b334f8ab",
   "metadata": {},
   "outputs": [],
   "source": [
    "params = {\n",
    "         'criterion': ['mae','mse'],\n",
    "         'max_depth': range(2,10,3),\n",
    "          'min_samples_split':range(1,10,3),\n",
    "          'min_samples_leaf':range(2,10,3)\n",
    "         }"
   ]
  },
  {
   "cell_type": "code",
   "execution_count": 71,
   "id": "5183d841",
   "metadata": {},
   "outputs": [
    {
     "data": {
      "text/plain": [
       "GridSearchCV(cv=5, estimator=RandomForestRegressor(),\n",
       "             param_grid={'criterion': ['mae', 'mse'],\n",
       "                         'max_depth': range(2, 10, 3),\n",
       "                         'min_samples_leaf': range(2, 10, 3),\n",
       "                         'min_samples_split': range(1, 10, 3)})"
      ]
     },
     "execution_count": 71,
     "metadata": {},
     "output_type": "execute_result"
    }
   ],
   "source": [
    "from sklearn.model_selection import GridSearchCV\n",
    "GV=GridSearchCV(RandomForestRegressor(),params,cv=5)\n",
    "GV.fit(x_train,y_train)"
   ]
  },
  {
   "cell_type": "code",
   "execution_count": 72,
   "id": "3cf6f3ca",
   "metadata": {},
   "outputs": [
    {
     "data": {
      "text/plain": [
       "{'criterion': 'mae',\n",
       " 'max_depth': 8,\n",
       " 'min_samples_leaf': 2,\n",
       " 'min_samples_split': 4}"
      ]
     },
     "execution_count": 72,
     "metadata": {},
     "output_type": "execute_result"
    }
   ],
   "source": [
    "GV.best_params_"
   ]
  },
  {
   "cell_type": "code",
   "execution_count": 80,
   "id": "259cdb1c",
   "metadata": {},
   "outputs": [],
   "source": [
    "RFR1 = RandomForestRegressor(criterion = 'mae', max_depth= 8, min_samples_leaf = 2, min_samples_split =4)"
   ]
  },
  {
   "cell_type": "code",
   "execution_count": 81,
   "id": "2fdd5e57",
   "metadata": {},
   "outputs": [
    {
     "name": "stdout",
     "output_type": "stream",
     "text": [
      "0.9676065956536444\n"
     ]
    }
   ],
   "source": [
    "RFR1.fit(x_train,y_train)\n",
    "pred_test=RFR1.predict(x_test)\n",
    "print(r2_score(y_test,pred_test))"
   ]
  },
  {
   "cell_type": "code",
   "execution_count": 83,
   "id": "99e65250",
   "metadata": {},
   "outputs": [
    {
     "name": "stdout",
     "output_type": "stream",
     "text": [
      "97.12100578868615\n"
     ]
    }
   ],
   "source": [
    "print((cross_val_score(RFR1,x,y,cv=5).mean())*100)"
   ]
  },
  {
   "cell_type": "markdown",
   "id": "ba606559",
   "metadata": {},
   "source": [
    "# Saving the Model"
   ]
  },
  {
   "cell_type": "code",
   "execution_count": 84,
   "id": "57e12b9f",
   "metadata": {},
   "outputs": [],
   "source": [
    "import pickle\n",
    "filename=\"Advertising.pk1\"\n",
    "pickle.dump(RFR,open(filename,\"wb\"))"
   ]
  },
  {
   "cell_type": "code",
   "execution_count": 85,
   "id": "b30b45a3",
   "metadata": {},
   "outputs": [
    {
     "name": "stdout",
     "output_type": "stream",
     "text": [
      "0.9766544925281616\n"
     ]
    }
   ],
   "source": [
    "# lets load the model & predict\n",
    "loaded_model=pickle.load(open(\"Advertising.pk1\",\"rb\"))\n",
    "result=loaded_model.score(x_test, y_test)\n",
    "print(result)"
   ]
  },
  {
   "cell_type": "code",
   "execution_count": 86,
   "id": "9f48ddaa",
   "metadata": {},
   "outputs": [
    {
     "data": {
      "text/html": [
       "<div>\n",
       "<style scoped>\n",
       "    .dataframe tbody tr th:only-of-type {\n",
       "        vertical-align: middle;\n",
       "    }\n",
       "\n",
       "    .dataframe tbody tr th {\n",
       "        vertical-align: top;\n",
       "    }\n",
       "\n",
       "    .dataframe thead th {\n",
       "        text-align: right;\n",
       "    }\n",
       "</style>\n",
       "<table border=\"1\" class=\"dataframe\">\n",
       "  <thead>\n",
       "    <tr style=\"text-align: right;\">\n",
       "      <th></th>\n",
       "      <th>0</th>\n",
       "      <th>1</th>\n",
       "      <th>2</th>\n",
       "      <th>3</th>\n",
       "      <th>4</th>\n",
       "      <th>5</th>\n",
       "      <th>6</th>\n",
       "      <th>7</th>\n",
       "      <th>8</th>\n",
       "      <th>9</th>\n",
       "      <th>...</th>\n",
       "      <th>40</th>\n",
       "      <th>41</th>\n",
       "      <th>42</th>\n",
       "      <th>43</th>\n",
       "      <th>44</th>\n",
       "      <th>45</th>\n",
       "      <th>46</th>\n",
       "      <th>47</th>\n",
       "      <th>48</th>\n",
       "      <th>49</th>\n",
       "    </tr>\n",
       "  </thead>\n",
       "  <tbody>\n",
       "    <tr>\n",
       "      <th>Predicted</th>\n",
       "      <td>20.539</td>\n",
       "      <td>18.95</td>\n",
       "      <td>7.614</td>\n",
       "      <td>11.256</td>\n",
       "      <td>15.429</td>\n",
       "      <td>22.572</td>\n",
       "      <td>25.195</td>\n",
       "      <td>6.279</td>\n",
       "      <td>11.745</td>\n",
       "      <td>9.741</td>\n",
       "      <td>...</td>\n",
       "      <td>16.397</td>\n",
       "      <td>23.587</td>\n",
       "      <td>4.946</td>\n",
       "      <td>15.048</td>\n",
       "      <td>12.277</td>\n",
       "      <td>14.812</td>\n",
       "      <td>12.58</td>\n",
       "      <td>15.672</td>\n",
       "      <td>7.504</td>\n",
       "      <td>22.153</td>\n",
       "    </tr>\n",
       "    <tr>\n",
       "      <th>Original</th>\n",
       "      <td>20.800</td>\n",
       "      <td>19.40</td>\n",
       "      <td>7.000</td>\n",
       "      <td>11.400</td>\n",
       "      <td>15.700</td>\n",
       "      <td>22.200</td>\n",
       "      <td>26.200</td>\n",
       "      <td>7.300</td>\n",
       "      <td>12.400</td>\n",
       "      <td>9.700</td>\n",
       "      <td>...</td>\n",
       "      <td>15.900</td>\n",
       "      <td>24.400</td>\n",
       "      <td>1.600</td>\n",
       "      <td>14.900</td>\n",
       "      <td>12.500</td>\n",
       "      <td>15.200</td>\n",
       "      <td>13.40</td>\n",
       "      <td>15.900</td>\n",
       "      <td>7.200</td>\n",
       "      <td>22.400</td>\n",
       "    </tr>\n",
       "  </tbody>\n",
       "</table>\n",
       "<p>2 rows × 50 columns</p>\n",
       "</div>"
      ],
      "text/plain": [
       "               0      1      2       3       4       5       6      7   \\\n",
       "Predicted  20.539  18.95  7.614  11.256  15.429  22.572  25.195  6.279   \n",
       "Original   20.800  19.40  7.000  11.400  15.700  22.200  26.200  7.300   \n",
       "\n",
       "               8      9   ...      40      41     42      43      44      45  \\\n",
       "Predicted  11.745  9.741  ...  16.397  23.587  4.946  15.048  12.277  14.812   \n",
       "Original   12.400  9.700  ...  15.900  24.400  1.600  14.900  12.500  15.200   \n",
       "\n",
       "              46      47     48      49  \n",
       "Predicted  12.58  15.672  7.504  22.153  \n",
       "Original   13.40  15.900  7.200  22.400  \n",
       "\n",
       "[2 rows x 50 columns]"
      ]
     },
     "execution_count": 86,
     "metadata": {},
     "output_type": "execute_result"
    }
   ],
   "source": [
    "test =pd.DataFrame([loaded_model.predict(x_test)[:],y_test[:]],index=[\"Predicted\", \"Original\"])\n",
    "test"
   ]
  }
 ],
 "metadata": {
  "kernelspec": {
   "display_name": "Python 3",
   "language": "python",
   "name": "python3"
  },
  "language_info": {
   "codemirror_mode": {
    "name": "ipython",
    "version": 3
   },
   "file_extension": ".py",
   "mimetype": "text/x-python",
   "name": "python",
   "nbconvert_exporter": "python",
   "pygments_lexer": "ipython3",
   "version": "3.8.8"
  }
 },
 "nbformat": 4,
 "nbformat_minor": 5
}
